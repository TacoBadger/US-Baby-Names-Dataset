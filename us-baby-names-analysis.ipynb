{
 "cells": [
  {
   "cell_type": "markdown",
   "id": "7618d79d",
   "metadata": {
    "papermill": {
     "duration": 0.006836,
     "end_time": "2022-06-06T14:23:22.950110",
     "exception": false,
     "start_time": "2022-06-06T14:23:22.943274",
     "status": "completed"
    },
    "tags": []
   },
   "source": [
    "## Motivation\n",
    "\n",
    "I'll be using this script or dataset to practice my knowledge on Data Analysis using SQL Language, which should be a must tool for every data scientist - both for getting access to data, cleaning the data and analyzing the data. The logic behind SQL is very similar to any other tool or language that used for data analysis (excel) and for those that used to work with data, should be very intuitive.\n",
    "\n",
    "But for this practice, I will be using the platform [DB Browser for SQLite](https://sqlitebrowser.org/). This is a visual, open source technology used to create, design, and edit database files compatible with SQLite. This technology allows users and developers to create databases, search, and edit data via a spreadsheet-like interface and it also accpets SQL commands, functions but not all of it, we will practice all the codes and functions that works in this platform with this documentation.\n",
    "\n",
    "We will also be practicing our [Tableau](https://public.tableau.com/en-us/s/) skills with this dataset.## Motivation\n",
    "I'll be using this script or dataset to practice my knowledge on Data Analysis using SQL Language, which should be a must tool for every data scientist - both for getting access to data, cleaning the data and analyzing the data. The logic behind SQL is very similar to any other tool or language that used for data analysis (excel) and for those that used to work with data, should be very intuitive.\n",
    "\n",
    "But for this practice, I will be using the platform [DB Browser for SQLite](https://sqlitebrowser.org/). This is a visual, open source technology used to create, design, and edit database files compatible with SQLite. This technology allows users and developers to create databases, search, and edit data via a spreadsheet-like interface and it also accpets SQL commands, functions but not all of it, we will practice all the codes and functions that works in this platform with this documentation.\n",
    "\n",
    "We will also be practicing our [Tableau](https://public.tableau.com/en-us/s/) skills with this dataset."
   ]
  },
  {
   "cell_type": "markdown",
   "id": "20e9649d",
   "metadata": {
    "papermill": {
     "duration": 0.005628,
     "end_time": "2022-06-06T14:23:22.962260",
     "exception": false,
     "start_time": "2022-06-06T14:23:22.956632",
     "status": "completed"
    },
    "tags": []
   },
   "source": [
    "# Questions I want to answer\n",
    "\n",
    "So here the few questions or problems I want to solve or figure out in this dataset.\n",
    "- What are the most popular names overall in the dataset?\n",
    "- What is the top five names for females and males?\n",
    "- What is the top three names per state in the dataset?"
   ]
  },
  {
   "cell_type": "markdown",
   "id": "ecd9fee5",
   "metadata": {
    "papermill": {
     "duration": 0.006732,
     "end_time": "2022-06-06T14:23:22.974303",
     "exception": false,
     "start_time": "2022-06-06T14:23:22.967571",
     "status": "completed"
    },
    "tags": []
   },
   "source": [
    "## Important Definitions\n",
    "\n",
    "**Structured Query Language** (SQL) is a standardized programming language that is used to manage relational databases and perform various operations on the data in them. In our case we are using SQL Lite which is just similar to SQL the only difference is:\n",
    "\n",
    "**SQL** is a query language which is used by different SQL databases. It is not a database itself.\n",
    "\n",
    "**SQLite** is a database management system itself which uses SQL.\n",
    "\n",
    "Usually in performance and advances analytical functionalities too.\n",
    "But we will use SQL language to write queries that would pull data from the DB, manipulate it, sort it, and extract it.\n",
    "Most of the script would be into SQL Language. Other than that, there are some other very useful concepts/features that we will use:\n",
    "- table creation\n",
    "- Updating data in the DB\n",
    "- functions like creating a temp table, returning data that we only need.\n",
    "\n",
    "**Tableau Public** is a free platform to explore, create and publicly share data visualizations online. With the largest repository of data visualizations in the world to learn from, Tableau Public makes developing data skills easy.\n",
    "\n",
    "Let's get started!"
   ]
  },
  {
   "cell_type": "markdown",
   "id": "a74622bc",
   "metadata": {
    "papermill": {
     "duration": 0.005429,
     "end_time": "2022-06-06T14:23:22.985109",
     "exception": false,
     "start_time": "2022-06-06T14:23:22.979680",
     "status": "completed"
    },
    "tags": []
   },
   "source": [
    "## Importing the dataset from Kaggle to see what tables we have in the dataset\n",
    "\n",
    "I downloaded the [dataset](https://www.kaggle.com/datasets/kaggle/us-baby-names) usually it appears to be a zip file but you can just extract it in a new folder, I made a folder called \"US Baby Name Analysis\" and save all my csv files there. \n",
    "\n",
    "You can also try to just open the database in SQLite file included in the dataset, it would be the same dataset but I wanted to try importing the dataset so I don't need to figure it out sooner or later. It includes two csv file.\n",
    "-  NationalNames.csv\n",
    "-  StateNames.csv\n",
    "\n",
    "I uploaded the file in DB Browser and named it accordingly national_names_baby and state_names_baby. I also created a table with the right fields. You can follow this [tutorial](https://www.youtube.com/watch?v=TOqI-KiTBKU) if you are stuck.\n",
    "\n",
    "I also named the file national_names_baby and state_names_baby which are the terms I will use in this script.\n",
    "- ID - Integer\n",
    "- Name - Text\n",
    "- Year - Integer\n",
    "- Gender - Text\n",
    "- Count - Integer\n",
    "- State - Text\n",
    "\n",
    "Double check to make sure you have the same fields too.\n",
    "\n",
    "You can also view the data so you know what data it has."
   ]
  },
  {
   "cell_type": "code",
   "execution_count": 1,
   "id": "370467ac",
   "metadata": {
    "execution": {
     "iopub.execute_input": "2022-06-06T14:23:23.000535Z",
     "iopub.status.busy": "2022-06-06T14:23:22.998478Z",
     "iopub.status.idle": "2022-06-06T14:23:23.147218Z",
     "shell.execute_reply": "2022-06-06T14:23:23.140071Z"
    },
    "papermill": {
     "duration": 0.158906,
     "end_time": "2022-06-06T14:23:23.149546",
     "exception": true,
     "start_time": "2022-06-06T14:23:22.990640",
     "status": "failed"
    },
    "tags": []
   },
   "outputs": [
    {
     "ename": "ERROR",
     "evalue": "Error in parse(text = x, srcfile = src): <text>:1:15: unexpected symbol\n1: SELECT * FROM national_names_baby\n                  ^\n",
     "output_type": "error",
     "traceback": [
      "Error in parse(text = x, srcfile = src): <text>:1:15: unexpected symbol\n1: SELECT * FROM national_names_baby\n                  ^\nTraceback:\n"
     ]
    }
   ],
   "source": [
    "SELECT * FROM national_names_baby\n",
    "\n",
    "SELECT * FROM state_names_baby"
   ]
  },
  {
   "cell_type": "markdown",
   "id": "53b6998f",
   "metadata": {
    "papermill": {
     "duration": null,
     "end_time": null,
     "exception": null,
     "start_time": null,
     "status": "pending"
    },
    "tags": []
   },
   "source": [
    "*SELECT * commands to return everything in the dataset.*"
   ]
  },
  {
   "cell_type": "markdown",
   "id": "6e5b0290",
   "metadata": {
    "papermill": {
     "duration": null,
     "end_time": null,
     "exception": null,
     "start_time": null,
     "status": "pending"
    },
    "tags": []
   },
   "source": [
    "## Cleaning the dataset and sorting it accordingly\n",
    "\n",
    "Checking the rows for nulls and other variables. You can always change the limit to any number so you can get a better overview or look at a few rows. You can also filter it on the browse data tab.\n",
    "\n",
    "In this example we look and filter through the columns that we want to work with.\n",
    "\n",
    "You define what you want to see after the SELECT, * means all possible columns. You choose the table after the FROM, you add the conditions for the data you want to use for example we used LIMIT which only returns a few rows based on how many you want."
   ]
  },
  {
   "cell_type": "code",
   "execution_count": null,
   "id": "195b76c3",
   "metadata": {
    "papermill": {
     "duration": null,
     "end_time": null,
     "exception": null,
     "start_time": null,
     "status": "pending"
    },
    "tags": []
   },
   "outputs": [],
   "source": [
    "SELECT * FROM national_names_baby LIMIT 10\n",
    "\n",
    "SELECT * FROM state_names_baby LIMIT 10"
   ]
  },
  {
   "cell_type": "markdown",
   "id": "0e432527",
   "metadata": {
    "papermill": {
     "duration": null,
     "end_time": null,
     "exception": null,
     "start_time": null,
     "status": "pending"
    },
    "tags": []
   },
   "source": [
    "And you can also skim through the data when you remove the limit.  It doesn't have much null values and duplicates so it is already okay for cleaning and further filtering and sorting to find out the answers to the questions we need.\n",
    "\n",
    "You can also have a summary of how many the rows for each dataset.Have a summary of the rows and the column names."
   ]
  },
  {
   "cell_type": "code",
   "execution_count": null,
   "id": "a165314b",
   "metadata": {
    "papermill": {
     "duration": null,
     "end_time": null,
     "exception": null,
     "start_time": null,
     "status": "pending"
    },
    "tags": []
   },
   "outputs": [],
   "source": [
    "SELECT count(1) as rows, count(Id), count(Name), count(Year), count(Gender), count(Count)\n",
    "FROM national_names_baby\n",
    "\n",
    "SELECT count(1) as rows, count(Id), count(Name), count(Year), count(Gender), count(State), count(Count)\n",
    "FROM state_names_baby"
   ]
  },
  {
   "cell_type": "markdown",
   "id": "00289aea",
   "metadata": {
    "papermill": {
     "duration": null,
     "end_time": null,
     "exception": null,
     "start_time": null,
     "status": "pending"
    },
    "tags": []
   },
   "source": [
    "## Checking the data and getting an overview of the findings I need\n",
    "\n",
    "This is the most basic query. The only must parts of a qeury is the SELECT and the FROM. In this method, we will also use the function COUNT and DISTINCT:\n",
    "- COUNT(ALL expression) evaluates expression for each row in a group, and returns the number of nonnull values.\n",
    "- COUNT(DISTINCT expression) evaluates expression for each row in a group, and returns the number of unique, nonnull values.\n",
    "\n",
    "How many genders and states in the dataset state_names_baby? We will only check this dataset because this has the most valuable data that we need. It has the ID, Name, Year, State, Gender and Count.\n",
    "\n",
    "I also checked what are the states in the dataset state_names_baby."
   ]
  },
  {
   "cell_type": "code",
   "execution_count": null,
   "id": "43bca123",
   "metadata": {
    "papermill": {
     "duration": null,
     "end_time": null,
     "exception": null,
     "start_time": null,
     "status": "pending"
    },
    "tags": []
   },
   "outputs": [],
   "source": [
    "# to check and count how many genders and state\n",
    "SELECT count(distinct Gender), count(distinct State) FROM state_names_baby\n",
    "\n",
    "# to check the names of the state\n",
    "SELECT distinct State FROM state_names_baby"
   ]
  },
  {
   "cell_type": "markdown",
   "id": "1a2d66d6",
   "metadata": {
    "papermill": {
     "duration": null,
     "end_time": null,
     "exception": null,
     "start_time": null,
     "status": "pending"
    },
    "tags": []
   },
   "source": [
    "And the code shows 51 states."
   ]
  },
  {
   "cell_type": "markdown",
   "id": "39062497",
   "metadata": {
    "papermill": {
     "duration": null,
     "end_time": null,
     "exception": null,
     "start_time": null,
     "status": "pending"
    },
    "tags": []
   },
   "source": [
    "How many male names and how many female names? I'll be mainly using the state_names_baby dataset because it has more relevant data than the national_baby_names dataset.\n"
   ]
  },
  {
   "cell_type": "code",
   "execution_count": null,
   "id": "728783b4",
   "metadata": {
    "papermill": {
     "duration": null,
     "end_time": null,
     "exception": null,
     "start_time": null,
     "status": "pending"
    },
    "tags": []
   },
   "outputs": [],
   "source": [
    "SELECT Gender, sum(Count) FROM state_names_baby GROUP BY Gender"
   ]
  },
  {
   "cell_type": "markdown",
   "id": "58f0a5ca",
   "metadata": {
    "papermill": {
     "duration": null,
     "end_time": null,
     "exception": null,
     "start_time": null,
     "status": "pending"
    },
    "tags": []
   },
   "source": [
    "Wanted to how many rows for each state, name, gender and added a new column called births which is the sum of the count by each name. Here we used the command GROUP BY. \n",
    "\n",
    "The GROUP BY clause a selected group of rows into summary rows by values of one or more columns. The GROUP BY clause returns one row for each group."
   ]
  },
  {
   "cell_type": "code",
   "execution_count": null,
   "id": "b669b2ce",
   "metadata": {
    "papermill": {
     "duration": null,
     "end_time": null,
     "exception": null,
     "start_time": null,
     "status": "pending"
    },
    "tags": []
   },
   "outputs": [],
   "source": [
    "SELECT state, name, gender, sum(count) as births FROM state_names_baby GROUP BY state, name, gender"
   ]
  },
  {
   "cell_type": "markdown",
   "id": "e128bd8d",
   "metadata": {
    "papermill": {
     "duration": null,
     "end_time": null,
     "exception": null,
     "start_time": null,
     "status": "pending"
    },
    "tags": []
   },
   "source": [
    "From here we got a good overview of what we need."
   ]
  },
  {
   "cell_type": "markdown",
   "id": "aa78eeee",
   "metadata": {
    "papermill": {
     "duration": null,
     "end_time": null,
     "exception": null,
     "start_time": null,
     "status": "pending"
    },
    "tags": []
   },
   "source": [
    "## Let's do some basic analytics\n",
    "\n",
    "Here we are starting to look at the data at more aggregated level. Instead of looking on the raw data we will start to grouping it to different levels we want to examine. In this example, we will base it by State, Names and Gender and we are using state_names_baby dataset.\n",
    "\n",
    "Here we will sort and filter the cleaned data to find out the answers to our questions. We will still use the same functions as earlier like SELECT, COUNT, LIMIT and ORDER BY/GROUP BY.\n",
    "- A SELECT statement retrieves zero or more rows from one or more database tables or database views.\n",
    "- The COUNT() function returns the number of rows that matches a specified criterion.\n",
    "- The ORDER BY keyword is used to sort the result-set in ascending or descending order.\n",
    "- The LIMIT command also limits the return of data in the DB Browser.\n",
    "\n",
    "We will be also using CREATE TEMPORARY TABLE to save csv files to create for visualizations.\n",
    "- TEMP TABLES are used to store data temporarily and they can perform CRUD (Create, Read, Update, and Delete), join, and some other operations like the persistent database tables. So you can just make a temp table and export it as a CSV file."
   ]
  },
  {
   "cell_type": "markdown",
   "id": "1802b964",
   "metadata": {
    "papermill": {
     "duration": null,
     "end_time": null,
     "exception": null,
     "start_time": null,
     "status": "pending"
    },
    "tags": []
   },
   "source": [
    "## The Use of all SQL Queries and Functions\n",
    "\n",
    "Let's start with: What are the 3 most popular names overall and which year? From here I wanted to create a temporary table for my visualizations too. So first we need to filter out the data that we need before making the temporary table."
   ]
  },
  {
   "cell_type": "code",
   "execution_count": null,
   "id": "f4726c76",
   "metadata": {
    "papermill": {
     "duration": null,
     "end_time": null,
     "exception": null,
     "start_time": null,
     "status": "pending"
    },
    "tags": []
   },
   "outputs": [],
   "source": [
    "#filter it first\n",
    "SELECT State, Name, Year, sum(Count) as Total\n",
    "      FROM state_names_baby\n",
    "      GROUP BY State, Name, Year"
   ]
  },
  {
   "cell_type": "markdown",
   "id": "1c1286fc",
   "metadata": {
    "papermill": {
     "duration": null,
     "end_time": null,
     "exception": null,
     "start_time": null,
     "status": "pending"
    },
    "tags": []
   },
   "source": [
    "This is the filtered and sorted data we need to answer our first question, we need to filter it more to find the top 3 names for each states and which year. We will create a temporary table because we will use this for more filtering and sorting."
   ]
  },
  {
   "cell_type": "code",
   "execution_count": null,
   "id": "3d88a3f5",
   "metadata": {
    "papermill": {
     "duration": null,
     "end_time": null,
     "exception": null,
     "start_time": null,
     "status": "pending"
    },
    "tags": []
   },
   "outputs": [],
   "source": [
    "CREATE TEMPORARY TABLE all_years as\n",
    "      SELECT State, Name, Year, sum(Count) as Total\n",
    "      FROM state_names_baby\n",
    "      GROUP BY State, Name, Year"
   ]
  },
  {
   "cell_type": "markdown",
   "id": "90bfb3b0",
   "metadata": {
    "papermill": {
     "duration": null,
     "end_time": null,
     "exception": null,
     "start_time": null,
     "status": "pending"
    },
    "tags": []
   },
   "source": [
    "You can view the data on the tab called Browse Data and a drop down column choose the temp.all_years.\n",
    "\n",
    "We have a new table for filterting and sorting. This is where we used a new function ROWNUM() and partition and you will also noticed that the command has 2 selects. This is called a sub query.\n",
    "\n",
    "A **subqery** is a query that is nested inside a larger query just like in RStudio where it is also called nested.\n",
    "\n",
    "IMPORTANT NOTES ABOUT SUBQUERY:\n",
    "- Subqueries are usually nested in the SELECT, FROM, and/or WHERE clauses. Subqueries can’t be nested in SET queries.\n",
    "- Comparison operators such as >, <, or = help you compare data in subqueries. You can also use multiple row operators including IN, ANY, or ALL.\n",
    "- The statement containing a subquery is an outer query or outer select. Subqueries are nested within these statements, called inner queries or inner select.\n",
    "- The innermost query executes first. Its parent query executes last so it can use the results returned by inner queries.\n",
    "- Parentheses are used to mark the beginning and end of a subquery.\n",
    "- For a subquery to compare multiple columns, those columns must be selected in the main query.\n",
    "- A SET command can’t have a nested subquery because it is used with UPDATE to adjust specific columns and values in a table.\n",
    "- Subqueries that return more than one row rely on multiple value operators such as the IN command.\n",
    "\n",
    "What does the rownumber and partition by do?\n",
    "- The ROW_NUMBER() is a window function that assigns a sequential integer to each row of a query's result set. Rows are ordered starting from one based on the order specified by the ORDER BY clause in the window definition.\n",
    "- Partition By, this divides the rows or query result set into small partitions."
   ]
  },
  {
   "cell_type": "code",
   "execution_count": null,
   "id": "89ebe782",
   "metadata": {
    "papermill": {
     "duration": null,
     "end_time": null,
     "exception": null,
     "start_time": null,
     "status": "pending"
    },
    "tags": []
   },
   "outputs": [],
   "source": [
    "SELECT State, Name, Total, Year\n",
    "    FROM (\n",
    "        SELECT State, Name, Year, Total, row_number()\n",
    "          over (partition by State\n",
    "                order by Total desc ) AS rownum\n",
    "        FROM all_years\n",
    "        ) where rownum < 4"
   ]
  },
  {
   "cell_type": "markdown",
   "id": "023bdf67",
   "metadata": {
    "papermill": {
     "duration": null,
     "end_time": null,
     "exception": null,
     "start_time": null,
     "status": "pending"
    },
    "tags": []
   },
   "source": [
    "This shows what we need and answered our question. Let's make another temporary table for exporting so we can make a visual for it."
   ]
  },
  {
   "cell_type": "code",
   "execution_count": null,
   "id": "0f3c0403",
   "metadata": {
    "papermill": {
     "duration": null,
     "end_time": null,
     "exception": null,
     "start_time": null,
     "status": "pending"
    },
    "tags": []
   },
   "outputs": [],
   "source": [
    "CREATE TEMPORARY TABLE all_years_names as\n",
    "SELECT State, Name, Total, Year\n",
    "    FROM (\n",
    "        SELECT State, Name, Year, Total, row_number()\n",
    "          over (partition by State\n",
    "                order by Total desc ) AS rownum\n",
    "        FROM all_years\n",
    "        ) where rownum < 4"
   ]
  },
  {
   "cell_type": "markdown",
   "id": "a05004e8",
   "metadata": {
    "papermill": {
     "duration": null,
     "end_time": null,
     "exception": null,
     "start_time": null,
     "status": "pending"
    },
    "tags": []
   },
   "source": [
    "What are the most popular names overall by Gender? I will also create a temporary table for visualizations. We will do the same methods from all_years_names."
   ]
  },
  {
   "cell_type": "code",
   "execution_count": null,
   "id": "d2c8464c",
   "metadata": {
    "papermill": {
     "duration": null,
     "end_time": null,
     "exception": null,
     "start_time": null,
     "status": "pending"
    },
    "tags": []
   },
   "outputs": [],
   "source": [
    "#filter the data based on the data that we need\n",
    "SELECT Name, sum(Count) as total\n",
    "    FROM state_names_baby\n",
    "    WHERE Gender = \"F\"\n",
    "    GROUP  BY Name\n",
    "    ORDER BY total desc\n",
    "    LIMIT 5\n",
    "\n",
    "SELECT Name, sum(Count) as total\n",
    "    FROM state_names_baby\n",
    "    WHERE Gender = \"M\"\n",
    "    GROUP  BY Name\n",
    "    ORDER BY total desc\n",
    "    LIMIT 5"
   ]
  },
  {
   "cell_type": "markdown",
   "id": "4b603db1",
   "metadata": {
    "papermill": {
     "duration": null,
     "end_time": null,
     "exception": null,
     "start_time": null,
     "status": "pending"
    },
    "tags": []
   },
   "source": [
    "Since this is the data we need to answer our question, we will create another temporary table for visualizations."
   ]
  },
  {
   "cell_type": "code",
   "execution_count": null,
   "id": "c662c6ca",
   "metadata": {
    "papermill": {
     "duration": null,
     "end_time": null,
     "exception": null,
     "start_time": null,
     "status": "pending"
    },
    "tags": []
   },
   "outputs": [],
   "source": [
    "CREATE TEMPORARY TABLE popular_names_females as\n",
    "SELECT Name, sum(Count) as total\n",
    "     FROM state_names_baby\n",
    "     WHERE Gender = \"F\"\n",
    "     GROUP BY Name\n",
    "     ORDER BY total desc\n",
    "     LIMIT 5\n",
    "\n",
    "CREATE TEMPORARY TABLE popular_names_males as\n",
    "SELECT Name, sum(Count) as total\n",
    "    FROM state_names_baby\n",
    "    WHERE Gender = \"M\"\n",
    "    GROUP  BY Name\n",
    "    ORDER BY total desc\n",
    "    LIMIT 5"
   ]
  },
  {
   "cell_type": "markdown",
   "id": "2f2030a5",
   "metadata": {
    "papermill": {
     "duration": null,
     "end_time": null,
     "exception": null,
     "start_time": null,
     "status": "pending"
    },
    "tags": []
   },
   "source": [
    "And lastly I want to know the top 3 names per state (including the gender and year in the new table and visualization) in the last 3 years because adding the present might be culturally different. So we will create a new temporary table to sort and filter and also for visualizations.\n",
    "\n",
    "Please take note that the data is updated until 2014 so I decided to choose 3 years before which is 2013, 2012 and 2011 because the names might be more modern. I hope that is clear."
   ]
  },
  {
   "cell_type": "code",
   "execution_count": null,
   "id": "d86b4293",
   "metadata": {
    "papermill": {
     "duration": null,
     "end_time": null,
     "exception": null,
     "start_time": null,
     "status": "pending"
    },
    "tags": []
   },
   "outputs": [],
   "source": [
    "SELECT State, Name, Gender, Year, sum(Count) as Total\n",
    "      FROM state_names_baby\n",
    "      WHERE Year > 2011\n",
    "      GROUP BY State, Name, Gender, Year"
   ]
  },
  {
   "cell_type": "markdown",
   "id": "ea9c5b1e",
   "metadata": {
    "papermill": {
     "duration": null,
     "end_time": null,
     "exception": null,
     "start_time": null,
     "status": "pending"
    },
    "tags": []
   },
   "source": [
    "It has the right data that we need now time to create a table to filter and sort it more. You can view it the browse data tab to make sure it is the same data you filtered earlier."
   ]
  },
  {
   "cell_type": "code",
   "execution_count": null,
   "id": "7816b06b",
   "metadata": {
    "papermill": {
     "duration": null,
     "end_time": null,
     "exception": null,
     "start_time": null,
     "status": "pending"
    },
    "tags": []
   },
   "outputs": [],
   "source": [
    "CREATE TEMPORARY TABLE three_years as\n",
    "      SELECT State, Name, Gender, Year, sum(Count) as Total\n",
    "      FROM state_names_baby\n",
    "      WHERE Year > 2011\n",
    "      GROUP BY State, Name, Gender, Year"
   ]
  },
  {
   "cell_type": "markdown",
   "id": "82808462",
   "metadata": {
    "papermill": {
     "duration": null,
     "end_time": null,
     "exception": null,
     "start_time": null,
     "status": "pending"
    },
    "tags": []
   },
   "source": [
    "We need to filter it more to get the right data to answer our question \"What is the top three names per state in the dataset?\""
   ]
  },
  {
   "cell_type": "code",
   "execution_count": null,
   "id": "ff26ee6b",
   "metadata": {
    "papermill": {
     "duration": null,
     "end_time": null,
     "exception": null,
     "start_time": null,
     "status": "pending"
    },
    "tags": []
   },
   "outputs": [],
   "source": [
    "SELECT State, Name, Total, Gender, Year\n",
    "    FROM (\n",
    "        SELECT State, Name, Year, Gender, Total, row_number()\n",
    "          over (partition by State\n",
    "                order by Total desc ) AS rownum\n",
    "        FROM three_years\n",
    "        ) where rownum < 4"
   ]
  },
  {
   "cell_type": "markdown",
   "id": "5144ddd3",
   "metadata": {
    "papermill": {
     "duration": null,
     "end_time": null,
     "exception": null,
     "start_time": null,
     "status": "pending"
    },
    "tags": []
   },
   "source": [
    "This has the right data for the popular names (including the gender and year in the new table and visualization) Time to create a table for this visualization."
   ]
  },
  {
   "cell_type": "code",
   "execution_count": null,
   "id": "a18000be",
   "metadata": {
    "papermill": {
     "duration": null,
     "end_time": null,
     "exception": null,
     "start_time": null,
     "status": "pending"
    },
    "tags": []
   },
   "outputs": [],
   "source": [
    "CREATE TEMPORARY TABLE three_years_names as\n",
    "SELECT State, Name, Total, Gender, Year\n",
    "    FROM (\n",
    "        SELECT State, Name, Year, Gender, Total, row_number()\n",
    "          over (partition by State\n",
    "                order by Total desc ) AS rownum\n",
    "        FROM three_years\n",
    "        ) where rownum < 4"
   ]
  },
  {
   "cell_type": "markdown",
   "id": "04f297d9",
   "metadata": {
    "papermill": {
     "duration": null,
     "end_time": null,
     "exception": null,
     "start_time": null,
     "status": "pending"
    },
    "tags": []
   },
   "source": [
    "## Query Run Order\n",
    "Now that we are familiar with most of the functionalities being used in a query, it is very important to understand the order that code runs.\n",
    "- SELECT\n",
    "- FROM\n",
    "- WHERE\n",
    "- GROUP BY\n",
    "- ROWNUM\n",
    "- ORDER BY\n",
    "- LIMIT\n",
    "- CREATE TEMP TABLE\n",
    "\n",
    "- Define which tables to use (FROM)\n",
    "- Keep only the rows that apply to the conditions (WHERE)\n",
    "- Group the data by the required level (if need) (GROUP BY)\n",
    "- Order the output of the new table (ORDER BY)\n",
    "- Returns a specific number of rows (ROWNUM)\n",
    "- Limit to number of rows - would cut it according the soring and the having filtering (LIMIT)\n",
    "- Creates a temp table for you to use (CREATE TEMP TABLE)"
   ]
  },
  {
   "cell_type": "markdown",
   "id": "f9b8f2bd",
   "metadata": {
    "papermill": {
     "duration": null,
     "end_time": null,
     "exception": null,
     "start_time": null,
     "status": "pending"
    },
    "tags": []
   },
   "source": [
    "## Sub Queries and Functions\n",
    "A Subquery or Inner query or a Nested query is a query within another SQL query and embedded within the WHERE clause. A subquery is used to return data that will be used in the main query as a condition to further restrict the data to be retrieved.  It is also a query that is nested inside a SELECT , INSERT , UPDATE , or DELETE statement, or inside another subquery.\n",
    "\n",
    "In our example  we used the codes:"
   ]
  },
  {
   "cell_type": "code",
   "execution_count": null,
   "id": "bd919c0e",
   "metadata": {
    "papermill": {
     "duration": null,
     "end_time": null,
     "exception": null,
     "start_time": null,
     "status": "pending"
    },
    "tags": []
   },
   "outputs": [],
   "source": [
    "SELECT State, Name, Total, Gender, Year\n",
    "    FROM (\n",
    "        SELECT State, Name, Year, Gender, Total, row_number()\n",
    "          over (partition by State\n",
    "                order by Total desc ) AS rownum\n",
    "        FROM three_years\n",
    "        ) where rownum < 4\n",
    "CREATE TEMPORARY TABLE three_years_names as\n",
    "SELECT State, Name, Total, Gender, Year\n",
    "    FROM (\n",
    "        SELECT State, Name, Year, Gender, Total, row_number()\n",
    "          over (partition by State\n",
    "                order by Total desc ) AS rownum\n",
    "        FROM three_years\n",
    "        ) where rownum < 4"
   ]
  },
  {
   "cell_type": "markdown",
   "id": "e6da3912",
   "metadata": {
    "papermill": {
     "duration": null,
     "end_time": null,
     "exception": null,
     "start_time": null,
     "status": "pending"
    },
    "tags": []
   },
   "source": [
    "Which is a great example of sub queries. and inside it are different kind of functions."
   ]
  },
  {
   "cell_type": "markdown",
   "id": "ecd06d0d",
   "metadata": {
    "papermill": {
     "duration": null,
     "end_time": null,
     "exception": null,
     "start_time": null,
     "status": "pending"
    },
    "tags": []
   },
   "source": [
    "## Explore our Tableau Public and Key Findings\n",
    "\n",
    "You can explore our tableau public to access the interactive data visualization.\n",
    "- [@TacoBadger](https://public.tableau.com/app/profile/taco.badger)\n",
    "\n",
    "## Explore our Notebook\n",
    "\n",
    "You can explore our notebook, copy and edit it based on your own analysis.\n",
    "- [Notebook](https://public.tableau.com/app/profile/taco.badger)\n"
   ]
  }
 ],
 "metadata": {
  "kernelspec": {
   "display_name": "R",
   "language": "R",
   "name": "ir"
  },
  "language_info": {
   "codemirror_mode": "r",
   "file_extension": ".r",
   "mimetype": "text/x-r-source",
   "name": "R",
   "pygments_lexer": "r",
   "version": "4.0.5"
  },
  "papermill": {
   "default_parameters": {},
   "duration": 3.651026,
   "end_time": "2022-06-06T14:23:23.274792",
   "environment_variables": {},
   "exception": true,
   "input_path": "__notebook__.ipynb",
   "output_path": "__notebook__.ipynb",
   "parameters": {},
   "start_time": "2022-06-06T14:23:19.623766",
   "version": "2.3.4"
  }
 },
 "nbformat": 4,
 "nbformat_minor": 5
}
